pip install xlrd
pip install pandas
pip install numpy
pip install matplotlib
pip install scikit-learn==0.22
pip install openpyxl
pip install k_means_constrained
import pandas as pd
import numpy as np
import matplotlib.pyplot as plt
from sklearn.cluster import KMeans
from k_means_constrained import KMeansConstrained
df=pd.read_excel(r'Geolocation.xlsx',sheet_name='Base')
temp_df=df[['PartyMasterCode','outlet_latitude','outlet_longitude']]
temp_df.dropna(inplace=True)
df=pd.read_excel(r'Geolocation.xlsx',sheet_name='Configuration')
min_df=df[['Minimum Size']]
max_df=df[['Maximum Size']]
av_df=df[['Average Size']]
          
min_s = int(min_df.iat[0,0])
max_s = int(max_df.iat[0,0])
av_s = int(av_df.iat[0,0])
print(min_s)
print(max_s)
print(av_s)

num_bts=int(temp_df.shape[0]/av_s)
print(num_bts)

kmeans_1 = KMeansConstrained(size_min=min_s, size_max=max_s, init ='k-means++',n_clusters=num_bts, max_iter=10)
kmeans_1.fit(temp_df[temp_df.columns[1:3]]) # Compute k-means clustering.
temp_df['cluster_label'] = kmeans_1.fit_predict(temp_df[temp_df.columns[1:3]])
temp_df.head(10)

centers = kmeans_1.cluster_centers_ # Coordinates of cluster centers.
labels = kmeans_1.predict(temp_df[temp_df.columns[1:3]]) # Labels of each point
temp_df.to_excel("Beats_plan.xlsx")
temp_df.plot.scatter(x = 'outlet_latitude', y = 'outlet_longitude', c=labels, s=50, cmap='viridis')
plt.scatter(centers[:, 0], centers[:, 1], c='black', s=200, alpha=0.5)
